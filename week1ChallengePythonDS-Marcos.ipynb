{
 "cells": [
  {
   "cell_type": "code",
   "execution_count": 1,
   "id": "324d3f51",
   "metadata": {},
   "outputs": [
    {
     "data": {
      "text/plain": [
       "array([[ 1., 22.],\n",
       "       [ 2., 27.],\n",
       "       [ 3., 31.],\n",
       "       [ 4., 29.],\n",
       "       [ 5., 27.],\n",
       "       [ 6., 26.],\n",
       "       [ 7., 27.],\n",
       "       [ 8., 23.],\n",
       "       [ 9., 27.],\n",
       "       [10., 32.],\n",
       "       [11., 28.],\n",
       "       [12., 27.],\n",
       "       [13., 22.],\n",
       "       [14., 27.],\n",
       "       [15., 35.],\n",
       "       [16., 33.],\n",
       "       [17., 28.],\n",
       "       [18., 22.],\n",
       "       [19., 25.],\n",
       "       [20., 27.],\n",
       "       [21., 37.],\n",
       "       [22., 27.],\n",
       "       [23., 24.],\n",
       "       [24., 27.],\n",
       "       [25., 28.],\n",
       "       [26., 26.],\n",
       "       [27., 27.],\n",
       "       [28., 27.],\n",
       "       [29., 29.],\n",
       "       [30., 49.],\n",
       "       [31., 26.],\n",
       "       [32., 32.],\n",
       "       [33., 26.],\n",
       "       [34., 24.],\n",
       "       [35., 24.],\n",
       "       [36., 23.],\n",
       "       [37., 28.],\n",
       "       [38., 28.],\n",
       "       [39., 22.],\n",
       "       [40., 26.],\n",
       "       [41., 32.],\n",
       "       [42., 35.],\n",
       "       [43., 33.],\n",
       "       [44., 31.],\n",
       "       [45., 30.],\n",
       "       [46., 36.],\n",
       "       [47., 22.],\n",
       "       [48., 23.],\n",
       "       [49., 32.],\n",
       "       [50., 34.]])"
      ]
     },
     "execution_count": 1,
     "metadata": {},
     "output_type": "execute_result"
    }
   ],
   "source": [
    "import numpy as np\n",
    "from numpy import genfromtxt\n",
    "\n",
    "empChallenge = genfromtxt('DS1_C4_S1_Employee_Data_Challenge.csv', delimiter=',', skip_header=1)\n",
    "empChallenge"
   ]
  },
  {
   "cell_type": "code",
   "execution_count": 2,
   "id": "91a99b74",
   "metadata": {},
   "outputs": [
    {
     "name": "stdout",
     "output_type": "stream",
     "text": [
      "The average age is: 28\n"
     ]
    }
   ],
   "source": [
    "#task 1.1 - Calculate the average age of the employees in the IT firm.\n",
    "\n",
    "#avg  =empChallenge.mean(axis=0)[1]\n",
    "#print(f'The average age is: {round(avg)}')\n",
    "\n",
    "avg = np.mean(empChallenge,axis = 0)[1]\n",
    "print(f'The average age is: {round(avg)}')"
   ]
  },
  {
   "cell_type": "code",
   "execution_count": 26,
   "id": "c8063d8c",
   "metadata": {},
   "outputs": [
    {
     "name": "stdout",
     "output_type": "stream",
     "text": [
      "There are 38 employees who are older than 25\n"
     ]
    },
    {
     "data": {
      "text/plain": [
       "array([[[ 2., 27.],\n",
       "        [ 3., 31.],\n",
       "        [ 4., 29.],\n",
       "        [ 5., 27.],\n",
       "        [ 6., 26.],\n",
       "        [ 7., 27.],\n",
       "        [ 9., 27.],\n",
       "        [10., 32.],\n",
       "        [11., 28.],\n",
       "        [12., 27.],\n",
       "        [14., 27.],\n",
       "        [15., 35.],\n",
       "        [16., 33.],\n",
       "        [17., 28.],\n",
       "        [20., 27.],\n",
       "        [21., 37.],\n",
       "        [22., 27.],\n",
       "        [24., 27.],\n",
       "        [25., 28.],\n",
       "        [26., 26.],\n",
       "        [27., 27.],\n",
       "        [28., 27.],\n",
       "        [29., 29.],\n",
       "        [30., 49.],\n",
       "        [31., 26.],\n",
       "        [32., 32.],\n",
       "        [33., 26.],\n",
       "        [37., 28.],\n",
       "        [38., 28.],\n",
       "        [40., 26.],\n",
       "        [41., 32.],\n",
       "        [42., 35.],\n",
       "        [43., 33.],\n",
       "        [44., 31.],\n",
       "        [45., 30.],\n",
       "        [46., 36.],\n",
       "        [49., 32.],\n",
       "        [50., 34.]]])"
      ]
     },
     "execution_count": 26,
     "metadata": {},
     "output_type": "execute_result"
    }
   ],
   "source": [
    "#task1.2- Display the employee codes who are above 25 years. Find the count of everyone\n",
    "\n",
    "above25 = np.where(empChallenge[:,1] > 25) #this selects the column index \n",
    "\n",
    "count25 = np.array(above25) #changes above25 from a tuple to an array\n",
    "\n",
    "print(\"There are\", count25.size, \"employees who are older than 25\") #takes a count of the array size .\n",
    "\n",
    "empChallenge[count25] #prints the new list with the employee codes that over the age of 25"
   ]
  },
  {
   "cell_type": "code",
   "execution_count": 27,
   "id": "9556354f",
   "metadata": {},
   "outputs": [
    {
     "name": "stdout",
     "output_type": "stream",
     "text": [
      "There are 12 employees that are between 30 and 35 years of age\n"
     ]
    },
    {
     "data": {
      "text/plain": [
       "array([[ 3., 31.],\n",
       "       [10., 32.],\n",
       "       [15., 35.],\n",
       "       [16., 33.],\n",
       "       [32., 32.],\n",
       "       [41., 32.],\n",
       "       [42., 35.],\n",
       "       [43., 33.],\n",
       "       [44., 31.],\n",
       "       [45., 30.],\n",
       "       [49., 32.],\n",
       "       [50., 34.]])"
      ]
     },
     "execution_count": 27,
     "metadata": {},
     "output_type": "execute_result"
    }
   ],
   "source": [
    "#task1.3- total employees aged between 30-35 . Display all of these employees\n",
    "\n",
    "\n",
    "midThirties = np.where((empChallenge[:,1] >= 30) & (empChallenge[:,1] <= 35))\n",
    "\n",
    "\n",
    "print(f'There are {np.array(midThirties).size} employees that are between 30 and 35 years of age')\n",
    "\n",
    "empChallenge[midThirties]\n",
    "\n"
   ]
  }
 ],
 "metadata": {
  "kernelspec": {
   "display_name": "Python 3 (ipykernel)",
   "language": "python",
   "name": "python3"
  },
  "language_info": {
   "codemirror_mode": {
    "name": "ipython",
    "version": 3
   },
   "file_extension": ".py",
   "mimetype": "text/x-python",
   "name": "python",
   "nbconvert_exporter": "python",
   "pygments_lexer": "ipython3",
   "version": "3.10.9"
  }
 },
 "nbformat": 4,
 "nbformat_minor": 5
}
